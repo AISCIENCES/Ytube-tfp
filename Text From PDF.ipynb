{
 "cells": [
  {
   "cell_type": "code",
   "execution_count": null,
   "metadata": {},
   "outputs": [],
   "source": [
    "# !pip install PyPDF2"
   ]
  },
  {
   "cell_type": "code",
   "execution_count": 2,
   "metadata": {},
   "outputs": [],
   "source": [
    "import PyPDF2"
   ]
  },
  {
   "cell_type": "code",
   "execution_count": 4,
   "metadata": {},
   "outputs": [],
   "source": [
    "pdf_file = open(r\"C:\\Users\\mg\\Desktop\\PDF to TXT\\3.pdf\",'rb')"
   ]
  },
  {
   "cell_type": "code",
   "execution_count": 5,
   "metadata": {},
   "outputs": [],
   "source": [
    "pdf_reader = PyPDF2.PdfFileReader(pdf_file)\n"
   ]
  },
  {
   "cell_type": "code",
   "execution_count": 6,
   "metadata": {},
   "outputs": [
    {
     "name": "stdout",
     "output_type": "stream",
     "text": [
      "1\n"
     ]
    }
   ],
   "source": [
    "page_count = pdf_reader.numPages\n",
    "print(page_count)"
   ]
  },
  {
   "cell_type": "code",
   "execution_count": 7,
   "metadata": {},
   "outputs": [],
   "source": [
    "page_text = pdf_reader.getPage(page_count-1)"
   ]
  },
  {
   "cell_type": "code",
   "execution_count": 9,
   "metadata": {},
   "outputs": [
    {
     "name": "stdout",
     "output_type": "stream",
     "text": [
      " AI Sciences\n",
      " \n",
      "\n",
      " \n",
      "\n",
      "AI Sciences has a dedicated customer service department to respond to your questions.\n",
      "  \n",
      "\n",
      "Contact our support representatives using the email and you will receive a reply within\n",
      "  \n",
      "\n",
      "24 business hours. However, you may want to visit our Frequently Asked Questions\n",
      "  \n",
      "\n",
      "page before contacting us:\n",
      "  \n",
      "\n",
      " \n",
      "contact@aisciences.io\n",
      " \n",
      "\n",
      "aisciences.io\n",
      " \n",
      "\n",
      " \n"
     ]
    }
   ],
   "source": [
    "text = page_text.extract_text()\n",
    "print(text)"
   ]
  },
  {
   "cell_type": "code",
   "execution_count": 13,
   "metadata": {},
   "outputs": [
    {
     "name": "stdout",
     "output_type": "stream",
     "text": [
      "a\n",
      "and\n",
      "a\n",
      "aisciences.io\n"
     ]
    }
   ],
   "source": [
    "for word in text.split():\n",
    "    if word.startswith('a'):\n",
    "        print(word)"
   ]
  },
  {
   "cell_type": "code",
   "execution_count": 14,
   "metadata": {},
   "outputs": [],
   "source": [
    "txt_file = open(r\"C:\\Users\\mg\\Desktop\\PDF to TXT\\pdfToTxt.txt\", 'a')\n",
    "txt_file.writelines(text)\n",
    "txt_file.close()"
   ]
  },
  {
   "cell_type": "code",
   "execution_count": null,
   "metadata": {},
   "outputs": [],
   "source": []
  },
  {
   "cell_type": "code",
   "execution_count": null,
   "metadata": {},
   "outputs": [],
   "source": []
  },
  {
   "cell_type": "code",
   "execution_count": null,
   "metadata": {},
   "outputs": [],
   "source": []
  }
 ],
 "metadata": {
  "kernelspec": {
   "display_name": "Python 3",
   "language": "python",
   "name": "python3"
  },
  "language_info": {
   "codemirror_mode": {
    "name": "ipython",
    "version": 3
   },
   "file_extension": ".py",
   "mimetype": "text/x-python",
   "name": "python",
   "nbconvert_exporter": "python",
   "pygments_lexer": "ipython3",
   "version": "3.8.3"
  }
 },
 "nbformat": 4,
 "nbformat_minor": 4
}
